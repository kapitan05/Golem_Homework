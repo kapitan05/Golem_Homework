{
  "cells": [
    {
      "cell_type": "markdown",
      "metadata": {
        "id": "view-in-github",
        "colab_type": "text"
      },
      "source": [
        "<a href=\"https://colab.research.google.com/github/kapitan05/Golem_Homework/blob/main/homework.ipynb\" target=\"_parent\"><img src=\"https://colab.research.google.com/assets/colab-badge.svg\" alt=\"Open In Colab\"/></a>"
      ]
    },
    {
      "cell_type": "markdown",
      "metadata": {
        "id": "DbLx3XiNdFuU"
      },
      "source": [
        "## Praca domowa - regresja\n",
        "\n",
        "Twoim zadaniem jest przewidywanie jakości wina na podstawie różnych właściwości - pH, zawartość alkoholu, chlorków etc.\n",
        "Targetem jest kolumna \"quality\", która przyjmuje pięć wartości: 3, 4, 5, 6, 7, 8. Możliwe, że Twoje rozwiązanie będzie miało lepszy wynik jeśli będziesz zaokrąglać wyniki swojej predykcji.\n",
        "\n",
        "#### Co dokładnie trzeba zrobić?\n",
        "\n",
        "1. Poznaj swój dataset:\n",
        "    - Które atrybuty są najważniejsze?\n",
        "    - Czy warto [znormalizować](https://pl.wikipedia.org/wiki/Standaryzacja_(statystyka)) dane?\n",
        "\n",
        "\n",
        "2. Przygotuj dane:\n",
        "    - Jak podzielisz dane na testowe i treningowe?\n",
        "    - Czy są wiersze/kolumny, które nie będą Ci potrzebne?\n",
        "    \n",
        "    \n",
        "3. Napisz model:\n",
        "    - Tak długo jak jest to regresja, wszystkie chwyty dozwolone! Możesz użyć makepipeline żeby złożyć parę modeli w jeden, albo spojrzeć do dokumentacji sklearn i poszukać czegoś nowego\n",
        "    \n",
        "    \n",
        "4. Oceń model:\n",
        "    - Jakie wyszło Ci MSE na zbiorze testowym? Generalniee każdy wynik na zbiorze testowym poniżej 0.5 jest całkiem niezły. Mi udało się zejść do 0.31"
      ]
    },
    {
      "cell_type": "code",
      "execution_count": null,
      "metadata": {
        "id": "CWV9dDI8dFuX"
      },
      "outputs": [],
      "source": [
        "import pandas as pd\n",
        "import numpy as np\n",
        "import matplotlib.pyplot as plt\n",
        "import seaborn as sns\n",
        "from sklearn.linear_model import Lasso, BayesianRidge, LassoLars, TweedieRegressor, Ridge, LinearRegression\n",
        "from sklearn.preprocessing import MinMaxScaler, PolynomialFeatures\n",
        "from sklearn.pipeline import make_pipeline\n",
        "from sklearn.ensemble import RandomForestRegressor\n",
        "from sklearn.metrics import mean_squared_error\n",
        "from sklearn.model_selection import train_test_split"
      ]
    },
    {
      "cell_type": "code",
      "execution_count": null,
      "metadata": {
        "id": "EONPQLVIdFua"
      },
      "outputs": [],
      "source": [
        "\n",
        "data = pd.read_csv('https://raw.githubusercontent.com/KNSI-Golem/BootcampGeneral/main/2023/meetings/2_regression/data/winequality-red.csv', delimiter=',')"
      ]
    },
    {
      "cell_type": "code",
      "execution_count": null,
      "metadata": {
        "id": "4LBVeGw6dFua"
      },
      "outputs": [],
      "source": [
        "data.head()"
      ]
    },
    {
      "cell_type": "code",
      "source": [
        "fig, ax = plt.subplots(figsize=(12, 8))\n",
        "sns.heatmap(data.corr(), annot=True, ax=ax)\n",
        "# plt.show()"
      ],
      "metadata": {
        "id": "DCrLO5efrrdl"
      },
      "execution_count": null,
      "outputs": []
    },
    {
      "cell_type": "code",
      "source": [
        "# dzielimy dane na target i features\n",
        "target = 'quality'\n",
        "features = [col for col in data.columns.to_list() if col != target]\n",
        "\n",
        "# dla każdego feature rysujemy boxplot\n",
        "fig, axis = plt.subplots(2, data.shape[1]//2, figsize=[20, 10])\n",
        "idx=0;\n",
        "axis=axis.flatten()\n",
        "for feature in features:\n",
        "    sns.boxplot(y=feature, data=data[[feature]], ax=axis[idx])\n",
        "    idx+=1\n",
        "\n",
        "plt.tight_layout()\n",
        "plt.show()"
      ],
      "metadata": {
        "id": "DCF_tZgDr3-S"
      },
      "execution_count": null,
      "outputs": []
    },
    {
      "cell_type": "code",
      "source": [
        "# wyrzucamy outlaiery\n",
        "def remove_outliers(df,columns,n_std):\n",
        "    for col in columns:\n",
        "        mean = df[col].mean()\n",
        "        sd = df[col].std()\n",
        "        df = df[(df[col] <= mean+(n_std*sd))]\n",
        "\n",
        "    return df"
      ],
      "metadata": {
        "id": "9nd07wQxsGTa"
      },
      "execution_count": null,
      "outputs": []
    },
    {
      "cell_type": "code",
      "source": [
        "data = remove_outliers(data, features, 3)"
      ],
      "metadata": {
        "id": "G2XN6ogzsagP"
      },
      "execution_count": null,
      "outputs": []
    },
    {
      "cell_type": "code",
      "source": [
        "fig, axis = plt.subplots(2, data.shape[1]//2, figsize=[20, 10])\n",
        "idx=0;\n",
        "axis=axis.flatten()\n",
        "for feature in features:\n",
        "    sns.boxplot(y=feature, data=data[[feature]], ax=axis[idx])\n",
        "    idx+=1\n",
        "\n",
        "plt.tight_layout()\n",
        "plt.show()"
      ],
      "metadata": {
        "id": "lcdHITxdsmAd"
      },
      "execution_count": null,
      "outputs": []
    },
    {
      "cell_type": "code",
      "source": [
        "# dla każdej features rysujemy zależność od targetu\n",
        "fig, axis = plt.subplots(data.shape[1]//2, 2, figsize=[20, 40])\n",
        "idx=0;\n",
        "axis=axis.flatten()\n",
        "for feature in features:\n",
        "    data.plot(y=target, x=feature, kind=\"scatter\", ax=axis[idx])\n",
        "    idx+=1\n",
        "\n",
        "plt.tight_layout()\n",
        "plt.show()"
      ],
      "metadata": {
        "id": "DWtphvATuHDj"
      },
      "execution_count": null,
      "outputs": []
    },
    {
      "cell_type": "code",
      "source": [
        "def build_model(data, model, train_test_ratio, chosen_features, target, random_state=45):\n",
        "\n",
        "    # dzielimy na train i test\n",
        "    data_train, data_test = train_test_split(data, test_size=train_test_ratio, random_state=random_state)\n",
        "    X_train, X_test = data_train[chosen_features], data_test[chosen_features]\n",
        "    y_train, y_test = data_train[target], data_test[target]\n",
        "\n",
        "    # cała regresja dzieje się tutaj\n",
        "    model.fit(X_train, y_train)\n",
        "\n",
        "    # przewidujemy wartość dla danych testowych\n",
        "    y_pred_train = model.predict(X_train)\n",
        "    y_pred_test = model.predict(X_test)\n",
        "\n",
        "    # liczymy MSE\n",
        "    MSE_train = mean_squared_error(y_train, y_pred_train)\n",
        "    MSE_test = mean_squared_error(y_test, y_pred_test)\n",
        "    print('MSE on training data:', MSE_train)\n",
        "    print('MSE on test data:', MSE_test)\n",
        "\n",
        "    return model, MSE_test"
      ],
      "metadata": {
        "id": "oKRSSQaGuTyR"
      },
      "execution_count": null,
      "outputs": []
    },
    {
      "cell_type": "code",
      "source": [
        "# model liniowy z jedną zmienną\n",
        "chosen_features = ['alcohol']\n",
        "train_test_ratio=0.2\n",
        "\n",
        "model, MSE= build_model(data, LinearRegression(), train_test_ratio, chosen_features, target)\n",
        "\n",
        "# tutaj robię dictionary żeby później móc porównać modele\n",
        "model_dict = {\"linear_1\": MSE}"
      ],
      "metadata": {
        "id": "zLKXrXthuWvQ"
      },
      "execution_count": null,
      "outputs": []
    },
    {
      "cell_type": "code",
      "source": [
        "# można sobie zwizualizować\n",
        "plt.figure(figsize=(10, 10))\n",
        "sns.scatterplot(x='alcohol', y=\"quality\", data=data[['alcohol','quality']])\n",
        "tmp_x = np.array([[data['alcohol'].min(),],[data['alcohol'].max(),]])\n",
        "tmp_y = model.predict(tmp_x)\n",
        "plt.plot(tmp_x, tmp_y, color='r')\n",
        "plt.show()"
      ],
      "metadata": {
        "id": "HY7E-FBHuiBJ"
      },
      "execution_count": null,
      "outputs": []
    },
    {
      "cell_type": "code",
      "source": [
        "# model liniowy z wieloma zmiennymi\n",
        "chosen_features = ['alcohol', 'sulphates', 'citric acid', 'volatile acidity']\n",
        "train_test_ratio=0.2\n",
        "\n",
        "model, MSE= build_model(data, LinearRegression(), train_test_ratio, chosen_features, target)\n",
        "\n",
        "# tutaj robię dictionary żeby później móc porównać modele\n",
        "model_dict = {\"linear_2\": MSE}"
      ],
      "metadata": {
        "id": "vcpYYJPqv5yK"
      },
      "execution_count": null,
      "outputs": []
    },
    {
      "cell_type": "code",
      "source": [
        "# model liniowy ze wszystkimi featurami\n",
        "\n",
        "chosen_features = features\n",
        "\n",
        "model, MSE = build_model(data, LinearRegression(), train_test_ratio, chosen_features, target)\n",
        "\n",
        "model_dict[\"linear_3\"] = MSE"
      ],
      "metadata": {
        "id": "NsB5S1_8ybX-"
      },
      "execution_count": null,
      "outputs": []
    },
    {
      "cell_type": "code",
      "source": [],
      "metadata": {
        "id": "jEP8UvZxzGCd"
      },
      "execution_count": 26,
      "outputs": []
    },
    {
      "cell_type": "code",
      "source": [],
      "metadata": {
        "id": "ACgpn_AqzVoI"
      },
      "execution_count": 26,
      "outputs": []
    },
    {
      "cell_type": "code",
      "source": [
        "degree = 2\n",
        "\n",
        "model, MSE = build_model(data, make_pipeline(PolynomialFeatures(degree), LinearRegression()), train_test_ratio, chosen_features, target)\n",
        "model_dict[\"linear_4\"] = MSE"
      ],
      "metadata": {
        "id": "5m3t298RzX9a",
        "outputId": "83de0575-2182-4698-f30d-18c551ad8c51",
        "colab": {
          "base_uri": "https://localhost:8080/"
        }
      },
      "execution_count": 37,
      "outputs": [
        {
          "output_type": "stream",
          "name": "stdout",
          "text": [
            "MSE on training data: 0.34258739685802264\n",
            "MSE on test data: 0.4442495942214893\n"
          ]
        }
      ]
    },
    {
      "cell_type": "code",
      "source": [
        "model_dict"
      ],
      "metadata": {
        "id": "FmdKDGqXzZSI",
        "outputId": "f7eddd65-469b-4c19-fefd-2635aa3c8ace",
        "colab": {
          "base_uri": "https://localhost:8080/"
        }
      },
      "execution_count": 38,
      "outputs": [
        {
          "output_type": "execute_result",
          "data": {
            "text/plain": [
              "{'linear_2': 0.4378339529799001,\n",
              " 'linear_3': 0.424434210684876,\n",
              " 'linear_4': 0.4442495942214893}"
            ]
          },
          "metadata": {},
          "execution_count": 38
        }
      ]
    },
    {
      "cell_type": "code",
      "source": [
        "heights = model_dict.values()\n",
        "labels = model_dict.keys()\n",
        "plt.bar(range(len(labels)), heights)\n",
        "plt.xticks(range(len(labels)), labels, rotation=90)\n",
        "plt.show()"
      ],
      "metadata": {
        "id": "pw-8U7oQ9CMo",
        "outputId": "1d2cd739-1584-4609-8d57-55203e9eb52c",
        "colab": {
          "base_uri": "https://localhost:8080/",
          "height": 471
        }
      },
      "execution_count": 43,
      "outputs": [
        {
          "output_type": "display_data",
          "data": {
            "text/plain": [
              "<Figure size 640x480 with 1 Axes>"
            ],
            "image/png": "[encoded data removed]"
          },
          "metadata": {}
        }
      ]
    },
    {
      "cell_type": "code",
      "source": [],
      "metadata": {
        "id": "44JH-pVi9j5m"
      },
      "execution_count": null,
      "outputs": []
    }
  ],
  "metadata": {
    "kernelspec": {
      "display_name": "Python 3",
      "language": "python",
      "name": "python3"
    },
    "language_info": {
      "codemirror_mode": {
        "name": "ipython",
        "version": 3
      },
      "file_extension": ".py",
      "mimetype": "text/x-python",
      "name": "python",
      "nbconvert_exporter": "python",
      "pygments_lexer": "ipython3",
      "version": "3.6.8"
    },
    "colab": {
      "provenance": [],
      "include_colab_link": true
    }
  },
  "nbformat": 4,
  "nbformat_minor": 0
}